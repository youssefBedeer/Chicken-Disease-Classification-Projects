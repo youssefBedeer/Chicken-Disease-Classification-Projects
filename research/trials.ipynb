{
 "cells": [
  {
   "cell_type": "code",
   "execution_count": 2,
   "id": "26c3fc06",
   "metadata": {},
   "outputs": [
    {
     "ename": "CustomeException",
     "evalue": "Error occured in python script name:[C:\\Users\\hp\\AppData\\Local\\Temp\\ipykernel_17792\\2119315550.py] line number:[5] Error Message:[division by zero]",
     "output_type": "error",
     "traceback": [
      "\u001b[31m---------------------------------------------------------------------------\u001b[39m",
      "\u001b[31mZeroDivisionError\u001b[39m                         Traceback (most recent call last)",
      "\u001b[36mCell\u001b[39m\u001b[36m \u001b[39m\u001b[32mIn[2]\u001b[39m\u001b[32m, line 5\u001b[39m\n\u001b[32m      4\u001b[39m \u001b[38;5;28;01mtry\u001b[39;00m:\n\u001b[32m----> \u001b[39m\u001b[32m5\u001b[39m     \u001b[32;43m1\u001b[39;49m\u001b[43m/\u001b[49m\u001b[32;43m0\u001b[39;49m\n\u001b[32m      6\u001b[39m \u001b[38;5;28;01mexcept\u001b[39;00m \u001b[38;5;167;01mException\u001b[39;00m \u001b[38;5;28;01mas\u001b[39;00m e:\n",
      "\u001b[31mZeroDivisionError\u001b[39m: division by zero",
      "\nDuring handling of the above exception, another exception occurred:\n",
      "\u001b[31mCustomeException\u001b[39m                          Traceback (most recent call last)",
      "\u001b[36mCell\u001b[39m\u001b[36m \u001b[39m\u001b[32mIn[2]\u001b[39m\u001b[32m, line 7\u001b[39m\n\u001b[32m      5\u001b[39m     \u001b[32m1\u001b[39m/\u001b[32m0\u001b[39m\n\u001b[32m      6\u001b[39m \u001b[38;5;28;01mexcept\u001b[39;00m \u001b[38;5;167;01mException\u001b[39;00m \u001b[38;5;28;01mas\u001b[39;00m e:\n\u001b[32m----> \u001b[39m\u001b[32m7\u001b[39m     \u001b[38;5;28;01mraise\u001b[39;00m CustomeException(e, sys)\n",
      "\u001b[31mCustomeException\u001b[39m: Error occured in python script name:[C:\\Users\\hp\\AppData\\Local\\Temp\\ipykernel_17792\\2119315550.py] line number:[5] Error Message:[division by zero]"
     ]
    }
   ],
   "source": [
    "from cnnClassifier import CustomeException \n",
    "import sys\n",
    "\n",
    "try:\n",
    "    1/0\n",
    "except Exception as e:\n",
    "    raise CustomeException(e, sys)"
   ]
  },
  {
   "cell_type": "code",
   "execution_count": 25,
   "id": "aa7247f7",
   "metadata": {},
   "outputs": [
    {
     "name": "stderr",
     "output_type": "stream",
     "text": [
      "[2025-09-30 15:34:13,099] [INFO] [root:<module>:20] - hekki\n"
     ]
    }
   ],
   "source": [
    "import logging \n",
    "import os \n",
    "from pathlib import Path\n",
    "from datetime import datetime\n",
    "\n",
    "base_log_folder= Path(os.path.join(os.path.dirname(os.getcwd()), \"logs\"))\n",
    "today_folder = datetime.now().strftime(\"%Y_%m_%d\")\n",
    "log_folder = os.path.join(base_log_folder, today_folder)\n",
    "\n",
    "log_file_name = datetime.now().strftime(\"%I_%M%p\")\n",
    "log_file_path = os.path.join(log_folder, log_file_name)\n",
    "\n",
    "\n",
    "logging.basicConfig(\n",
    "    level=logging.INFO,\n",
    "    filename = log_file_path,\n",
    "    format = \"[%(asctime)s] [%(levelname)s] [%(name)s:%(funcName)s:%(lineno)d] - %(message)s\"\n",
    ")\n",
    "\n",
    "logging.info(\"hekki\")"
   ]
  },
  {
   "cell_type": "code",
   "execution_count": 6,
   "id": "73b7223c",
   "metadata": {},
   "outputs": [
    {
     "data": {
      "text/plain": [
       "WindowsPath('c:/Users/hp/Files/DataScience/End-To-End Projects/Chicken-Disease-Classification-Projects')"
      ]
     },
     "execution_count": 6,
     "metadata": {},
     "output_type": "execute_result"
    }
   ],
   "source": [
    "from pathlib import Path\n",
    "Path(os.path.dirname(folder_path))"
   ]
  },
  {
   "cell_type": "code",
   "execution_count": 1,
   "id": "7511501b",
   "metadata": {},
   "outputs": [
    {
     "name": "stdout",
     "output_type": "stream",
     "text": [
      "[2025-09-30 15:56:24,198] [INFO] [root:<module>:2] - Try logging\n"
     ]
    }
   ],
   "source": [
    "from cnnClassifier import logging \n",
    "logging.info(\"Try logging\")"
   ]
  },
  {
   "cell_type": "code",
   "execution_count": 4,
   "id": "393f3c09",
   "metadata": {},
   "outputs": [
    {
     "name": "stdout",
     "output_type": "stream",
     "text": [
      "[2025-09-30 15:57:26,651] [ERROR] [root:__init__:44] - Error occurred in python script name:[C:\\Users\\hp\\AppData\\Local\\Temp\\ipykernel_17584\\256769051.py] line number:[3] Error Message:[division by zero]\n"
     ]
    },
    {
     "ename": "CustomException",
     "evalue": "Error occurred in python script name:[C:\\Users\\hp\\AppData\\Local\\Temp\\ipykernel_17584\\256769051.py] line number:[3] Error Message:[division by zero]",
     "output_type": "error",
     "traceback": [
      "\u001b[31m---------------------------------------------------------------------------\u001b[39m",
      "\u001b[31mZeroDivisionError\u001b[39m                         Traceback (most recent call last)",
      "\u001b[36mCell\u001b[39m\u001b[36m \u001b[39m\u001b[32mIn[4]\u001b[39m\u001b[32m, line 3\u001b[39m\n\u001b[32m      2\u001b[39m \u001b[38;5;28;01mtry\u001b[39;00m:\n\u001b[32m----> \u001b[39m\u001b[32m3\u001b[39m     result = \u001b[32;43m10\u001b[39;49m\u001b[43m \u001b[49m\u001b[43m/\u001b[49m\u001b[43m \u001b[49m\u001b[32;43m0\u001b[39;49m  \u001b[38;5;66;03m# ZeroDivisionError\u001b[39;00m\n\u001b[32m      4\u001b[39m \u001b[38;5;28;01mexcept\u001b[39;00m \u001b[38;5;167;01mException\u001b[39;00m \u001b[38;5;28;01mas\u001b[39;00m e:\n",
      "\u001b[31mZeroDivisionError\u001b[39m: division by zero",
      "\nDuring handling of the above exception, another exception occurred:\n",
      "\u001b[31mCustomException\u001b[39m                           Traceback (most recent call last)",
      "\u001b[36mCell\u001b[39m\u001b[36m \u001b[39m\u001b[32mIn[4]\u001b[39m\u001b[32m, line 5\u001b[39m\n\u001b[32m      3\u001b[39m     result = \u001b[32m10\u001b[39m / \u001b[32m0\u001b[39m  \u001b[38;5;66;03m# ZeroDivisionError\u001b[39;00m\n\u001b[32m      4\u001b[39m \u001b[38;5;28;01mexcept\u001b[39;00m \u001b[38;5;167;01mException\u001b[39;00m \u001b[38;5;28;01mas\u001b[39;00m e:\n\u001b[32m----> \u001b[39m\u001b[32m5\u001b[39m     \u001b[38;5;28;01mraise\u001b[39;00m CustomException(e)\n",
      "\u001b[31mCustomException\u001b[39m: Error occurred in python script name:[C:\\Users\\hp\\AppData\\Local\\Temp\\ipykernel_17584\\256769051.py] line number:[3] Error Message:[division by zero]"
     ]
    }
   ],
   "source": [
    "from cnnClassifier import CustomException\n",
    "try:\n",
    "    result = 10 / 0  # ZeroDivisionError\n",
    "except Exception as e:\n",
    "    raise CustomException(e)"
   ]
  },
  {
   "cell_type": "code",
   "execution_count": null,
   "id": "12231967",
   "metadata": {},
   "outputs": [],
   "source": []
  }
 ],
 "metadata": {
  "kernelspec": {
   "display_name": "cnn-env",
   "language": "python",
   "name": "python3"
  },
  "language_info": {
   "codemirror_mode": {
    "name": "ipython",
    "version": 3
   },
   "file_extension": ".py",
   "mimetype": "text/x-python",
   "name": "python",
   "nbconvert_exporter": "python",
   "pygments_lexer": "ipython3",
   "version": "3.12.11"
  }
 },
 "nbformat": 4,
 "nbformat_minor": 5
}
