{
 "cells": [
  {
   "cell_type": "code",
   "execution_count": 2,
   "id": "26c3fc06",
   "metadata": {},
   "outputs": [
    {
     "ename": "CustomeException",
     "evalue": "Error occured in python script name:[C:\\Users\\hp\\AppData\\Local\\Temp\\ipykernel_17792\\2119315550.py] line number:[5] Error Message:[division by zero]",
     "output_type": "error",
     "traceback": [
      "\u001b[31m---------------------------------------------------------------------------\u001b[39m",
      "\u001b[31mZeroDivisionError\u001b[39m                         Traceback (most recent call last)",
      "\u001b[36mCell\u001b[39m\u001b[36m \u001b[39m\u001b[32mIn[2]\u001b[39m\u001b[32m, line 5\u001b[39m\n\u001b[32m      4\u001b[39m \u001b[38;5;28;01mtry\u001b[39;00m:\n\u001b[32m----> \u001b[39m\u001b[32m5\u001b[39m     \u001b[32;43m1\u001b[39;49m\u001b[43m/\u001b[49m\u001b[32;43m0\u001b[39;49m\n\u001b[32m      6\u001b[39m \u001b[38;5;28;01mexcept\u001b[39;00m \u001b[38;5;167;01mException\u001b[39;00m \u001b[38;5;28;01mas\u001b[39;00m e:\n",
      "\u001b[31mZeroDivisionError\u001b[39m: division by zero",
      "\nDuring handling of the above exception, another exception occurred:\n",
      "\u001b[31mCustomeException\u001b[39m                          Traceback (most recent call last)",
      "\u001b[36mCell\u001b[39m\u001b[36m \u001b[39m\u001b[32mIn[2]\u001b[39m\u001b[32m, line 7\u001b[39m\n\u001b[32m      5\u001b[39m     \u001b[32m1\u001b[39m/\u001b[32m0\u001b[39m\n\u001b[32m      6\u001b[39m \u001b[38;5;28;01mexcept\u001b[39;00m \u001b[38;5;167;01mException\u001b[39;00m \u001b[38;5;28;01mas\u001b[39;00m e:\n\u001b[32m----> \u001b[39m\u001b[32m7\u001b[39m     \u001b[38;5;28;01mraise\u001b[39;00m CustomeException(e, sys)\n",
      "\u001b[31mCustomeException\u001b[39m: Error occured in python script name:[C:\\Users\\hp\\AppData\\Local\\Temp\\ipykernel_17792\\2119315550.py] line number:[5] Error Message:[division by zero]"
     ]
    }
   ],
   "source": [
    "from cnnClassifier import CustomeException \n",
    "import sys\n",
    "\n",
    "try:\n",
    "    1/0\n",
    "except Exception as e:\n",
    "    raise CustomeException(e, sys)"
   ]
  },
  {
   "cell_type": "code",
   "execution_count": 25,
   "id": "aa7247f7",
   "metadata": {},
   "outputs": [
    {
     "name": "stderr",
     "output_type": "stream",
     "text": [
      "[2025-09-30 15:34:13,099] [INFO] [root:<module>:20] - hekki\n"
     ]
    }
   ],
   "source": [
    "import logging \n",
    "import os \n",
    "from pathlib import Path\n",
    "from datetime import datetime\n",
    "\n",
    "base_log_folder= Path(os.path.join(os.path.dirname(os.getcwd()), \"logs\"))\n",
    "today_folder = datetime.now().strftime(\"%Y_%m_%d\")\n",
    "log_folder = os.path.join(base_log_folder, today_folder)\n",
    "\n",
    "log_file_name = datetime.now().strftime(\"%I_%M%p\")\n",
    "log_file_path = os.path.join(log_folder, log_file_name)\n",
    "\n",
    "\n",
    "logging.basicConfig(\n",
    "    level=logging.INFO,\n",
    "    filename = log_file_path,\n",
    "    format = \"[%(asctime)s] [%(levelname)s] [%(name)s:%(funcName)s:%(lineno)d] - %(message)s\"\n",
    ")\n",
    "\n",
    "logging.info(\"hekki\")"
   ]
  },
  {
   "cell_type": "code",
   "execution_count": 6,
   "id": "73b7223c",
   "metadata": {},
   "outputs": [
    {
     "data": {
      "text/plain": [
       "WindowsPath('c:/Users/hp/Files/DataScience/End-To-End Projects/Chicken-Disease-Classification-Projects')"
      ]
     },
     "execution_count": 6,
     "metadata": {},
     "output_type": "execute_result"
    }
   ],
   "source": [
    "from pathlib import Path\n",
    "Path(os.path.dirname(folder_path))"
   ]
  },
  {
   "cell_type": "code",
   "execution_count": 1,
   "id": "7511501b",
   "metadata": {},
   "outputs": [
    {
     "name": "stdout",
     "output_type": "stream",
     "text": [
      "[2025-09-30 15:56:24,198] [INFO] [root:<module>:2] - Try logging\n"
     ]
    }
   ],
   "source": [
    "from cnnClassifier import logging \n",
    "logging.info(\"Try logging\")"
   ]
  },
  {
   "cell_type": "code",
   "execution_count": 4,
   "id": "393f3c09",
   "metadata": {},
   "outputs": [
    {
     "name": "stdout",
     "output_type": "stream",
     "text": [
      "[2025-09-30 15:57:26,651] [ERROR] [root:__init__:44] - Error occurred in python script name:[C:\\Users\\hp\\AppData\\Local\\Temp\\ipykernel_17584\\256769051.py] line number:[3] Error Message:[division by zero]\n"
     ]
    },
    {
     "ename": "CustomException",
     "evalue": "Error occurred in python script name:[C:\\Users\\hp\\AppData\\Local\\Temp\\ipykernel_17584\\256769051.py] line number:[3] Error Message:[division by zero]",
     "output_type": "error",
     "traceback": [
      "\u001b[31m---------------------------------------------------------------------------\u001b[39m",
      "\u001b[31mZeroDivisionError\u001b[39m                         Traceback (most recent call last)",
      "\u001b[36mCell\u001b[39m\u001b[36m \u001b[39m\u001b[32mIn[4]\u001b[39m\u001b[32m, line 3\u001b[39m\n\u001b[32m      2\u001b[39m \u001b[38;5;28;01mtry\u001b[39;00m:\n\u001b[32m----> \u001b[39m\u001b[32m3\u001b[39m     result = \u001b[32;43m10\u001b[39;49m\u001b[43m \u001b[49m\u001b[43m/\u001b[49m\u001b[43m \u001b[49m\u001b[32;43m0\u001b[39;49m  \u001b[38;5;66;03m# ZeroDivisionError\u001b[39;00m\n\u001b[32m      4\u001b[39m \u001b[38;5;28;01mexcept\u001b[39;00m \u001b[38;5;167;01mException\u001b[39;00m \u001b[38;5;28;01mas\u001b[39;00m e:\n",
      "\u001b[31mZeroDivisionError\u001b[39m: division by zero",
      "\nDuring handling of the above exception, another exception occurred:\n",
      "\u001b[31mCustomException\u001b[39m                           Traceback (most recent call last)",
      "\u001b[36mCell\u001b[39m\u001b[36m \u001b[39m\u001b[32mIn[4]\u001b[39m\u001b[32m, line 5\u001b[39m\n\u001b[32m      3\u001b[39m     result = \u001b[32m10\u001b[39m / \u001b[32m0\u001b[39m  \u001b[38;5;66;03m# ZeroDivisionError\u001b[39;00m\n\u001b[32m      4\u001b[39m \u001b[38;5;28;01mexcept\u001b[39;00m \u001b[38;5;167;01mException\u001b[39;00m \u001b[38;5;28;01mas\u001b[39;00m e:\n\u001b[32m----> \u001b[39m\u001b[32m5\u001b[39m     \u001b[38;5;28;01mraise\u001b[39;00m CustomException(e)\n",
      "\u001b[31mCustomException\u001b[39m: Error occurred in python script name:[C:\\Users\\hp\\AppData\\Local\\Temp\\ipykernel_17584\\256769051.py] line number:[3] Error Message:[division by zero]"
     ]
    }
   ],
   "source": [
    "from cnnClassifier import CustomException\n",
    "try:\n",
    "    result = 10 / 0  # ZeroDivisionError\n",
    "except Exception as e:\n",
    "    raise CustomException(e)"
   ]
  },
  {
   "cell_type": "code",
   "execution_count": null,
   "id": "12231967",
   "metadata": {},
   "outputs": [
    {
     "name": "stdout",
     "output_type": "stream",
     "text": [
      "Secret file created at: hiring\\yvlshxm\\fdeijca\\mrwtemr\\dtllwxi\\qsgdjya\\stqklmm\\zggoktt\\vpyizxa\\fvobtzr\\ahguzge\\oyqchek\\secret.txt\n"
     ]
    }
   ],
   "source": []
  },
  {
   "cell_type": "code",
   "execution_count": null,
   "id": "f49f80c9",
   "metadata": {},
   "outputs": [
    {
     "name": "stdout",
     "output_type": "stream",
     "text": [
      "Secret file created at: hiring\\mckntxtpnfxkhoc\\axghnjbbepcolpb\\rgeqftnvotjsplv\\ieclxqjovlwfmsd\\amglcviwzpmrrzn\\mjabdntobjiacoe\\tauojnldkikxiwi\\aliwfaktlobiquk\\rltgdezbwnasvcs\\eewyelwzzmlcpis\\kysaapaaupsaosw\\secret.txt\n"
     ]
    }
   ],
   "source": [
    "import os\n",
    "import random\n",
    "import string\n",
    "\n",
    "BASE = \"hiring\"\n",
    "PATTERN = \"youssef\"\n",
    "FOLDERS_PER_LEVEL = 10   # how many subfolders per folder\n",
    "DEPTH_RANDOM = 2        # how many extra levels random folders will also get\n",
    "\n",
    "def random_name(length=15, start=None):\n",
    "    \"\"\"Generate random folder name, force starting char if given.\"\"\"\n",
    "    if start:\n",
    "        # first char = start, rest random\n",
    "        rest = ''.join(random.choices(string.ascii_lowercase, k=length - 1))\n",
    "        return start + rest\n",
    "    else:\n",
    "        return ''.join(random.choices(string.ascii_lowercase, k=length))\n",
    "\n",
    "def make_random_tree(path, depth):\n",
    "    \"\"\"Generate random subfolders recursively (for decoy noise).\"\"\"\n",
    "    if depth <= 0:\n",
    "        return\n",
    "    for _ in range(FOLDERS_PER_LEVEL):\n",
    "        folder = os.path.join(path, random_name())\n",
    "        os.makedirs(folder, exist_ok=True)\n",
    "        make_random_tree(folder, depth - 1)\n",
    "\n",
    "def make_pattern_path(base, pattern):\n",
    "    \"\"\"Builds folder tree with mariam path (starting letters).\"\"\"\n",
    "    os.makedirs(base, exist_ok=True)\n",
    "    path = base\n",
    "\n",
    "    for ch in pattern:\n",
    "        # First create random folders at this level\n",
    "        for _ in range(FOLDERS_PER_LEVEL - 1):\n",
    "            rand_folder = os.path.join(path, random_name())\n",
    "            os.makedirs(rand_folder, exist_ok=True)\n",
    "            make_random_tree(rand_folder, DEPTH_RANDOM)  # noise\n",
    "\n",
    "        # Create the special folder for pattern\n",
    "        special = os.path.join(path, random_name(start=ch))\n",
    "        os.makedirs(special, exist_ok=True)\n",
    "        path = special  # continue deeper along mariam\n",
    "\n",
    "    return path\n",
    "\n",
    "if __name__ == \"__main__\":\n",
    "    target = make_pattern_path(BASE, PATTERN)\n",
    "\n",
    "    # Drop a hidden file in final folder\n",
    "    secret_file = os.path.join(target, \"secret.txt\")\n",
    "    with open(secret_file, \"w\") as f:\n",
    "        f.write(\"This is the hidden file following the mariam path (starts).\")\n",
    "\n",
    "    print(f\"Secret file created at: {secret_file}\")\n"
   ]
  },
  {
   "cell_type": "code",
   "execution_count": 4,
   "id": "06cd26dc",
   "metadata": {},
   "outputs": [
    {
     "data": {
      "text/plain": [
       "'bedeer'"
      ]
     },
     "execution_count": 4,
     "metadata": {},
     "output_type": "execute_result"
    }
   ],
   "source": [
    "from box import ConfigBox\n",
    "d = ConfigBox(\n",
    "    {\"name\":{\"first\":\"youssef\", \"last\":\"bedeer\"}}\n",
    ")\n",
    "d.name.last\n"
   ]
  },
  {
   "cell_type": "code",
   "execution_count": 6,
   "id": "f8720437",
   "metadata": {},
   "outputs": [
    {
     "data": {
      "text/plain": [
       "dict_keys(['name'])"
      ]
     },
     "execution_count": 6,
     "metadata": {},
     "output_type": "execute_result"
    }
   ],
   "source": [
    "d.keys()"
   ]
  },
  {
   "cell_type": "code",
   "execution_count": 9,
   "id": "727fedb5",
   "metadata": {},
   "outputs": [
    {
     "name": "stdout",
     "output_type": "stream",
     "text": [
      "[2025-10-02 23:37:43,205] [INFO] [root:read_yaml:20] - reading yaml file -> tset.yaml successed.\n"
     ]
    },
    {
     "data": {
      "text/plain": [
       "'artifacts'"
      ]
     },
     "execution_count": 9,
     "metadata": {},
     "output_type": "execute_result"
    }
   ],
   "source": [
    "import yaml\n",
    "from box import ConfigBox \n",
    "from ensure import ensure_annotations \n",
    "from cnnClassifier import CustomException, logging\n",
    "@ensure_annotations\n",
    "\n",
    "def read_yaml(yaml_file_path:str) -> ConfigBox:\n",
    "    \"\"\"\n",
    "    reads yaml file \n",
    "\n",
    "    Args:\n",
    "        path to yaml file (str)\n",
    "\n",
    "    Returns: \n",
    "        ConfigBox type\n",
    "    \"\"\"\n",
    "    try:\n",
    "        with open(yaml_file_path, \"r\") as f:\n",
    "            content = ConfigBox(yaml.safe_load(f))\n",
    "            logging.info(f\"reading yaml file -> {yaml_file_path} successed.\")\n",
    "        return content\n",
    "    except Exception as e:\n",
    "        raise CustomException\n",
    "\n",
    "yaml_path = \"tset.yaml\"\n",
    "content = read_yaml(yaml_path)\n",
    "content.artifacts_root"
   ]
  },
  {
   "cell_type": "code",
   "execution_count": 14,
   "id": "6cbf831c",
   "metadata": {},
   "outputs": [
    {
     "name": "stdout",
     "output_type": "stream",
     "text": [
      "[2025-10-02 23:42:05,576] [INFO] [root:<module>:9] - folder 'artifacts' already exist.\n"
     ]
    }
   ],
   "source": [
    "import os\n",
    "list_of_directories = [content.artifacts_root]\n",
    "@ensure_annotations\n",
    "def create_directories(list_of_directories:list):\n",
    "    \"\"\"\n",
    "    make directories \n",
    "    \n",
    "    Args:\n",
    "        list of directories wants to create\n",
    "    \n",
    "    \"\"\"\n",
    "    try:\n",
    "        for path in list_of_directories:\n",
    "            if not os.path.exists(path):\n",
    "                os.makedirs(path, exist_ok=True)\n",
    "                logging.info(f\"folder created at '{path}'\")\n",
    "            else:\n",
    "                logging.info(f\"folder '{path}' already exist.\")\n",
    "    except Exception as e:\n",
    "        raise CustomeException(e)"
   ]
  },
  {
   "cell_type": "code",
   "execution_count": 2,
   "id": "bfe9273c",
   "metadata": {},
   "outputs": [
    {
     "data": {
      "text/plain": [
       "[224, 224]"
      ]
     },
     "execution_count": 2,
     "metadata": {},
     "output_type": "execute_result"
    }
   ],
   "source": [
    "i = [224,224,3]\n",
    "i[:-1]"
   ]
  },
  {
   "cell_type": "code",
   "execution_count": null,
   "id": "08ae2f70",
   "metadata": {},
   "outputs": [],
   "source": []
  }
 ],
 "metadata": {
  "kernelspec": {
   "display_name": "cnn-env",
   "language": "python",
   "name": "python3"
  },
  "language_info": {
   "codemirror_mode": {
    "name": "ipython",
    "version": 3
   },
   "file_extension": ".py",
   "mimetype": "text/x-python",
   "name": "python",
   "nbconvert_exporter": "python",
   "pygments_lexer": "ipython3",
   "version": "3.12.11"
  }
 },
 "nbformat": 4,
 "nbformat_minor": 5
}
