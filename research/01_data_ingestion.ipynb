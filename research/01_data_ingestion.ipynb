{
 "cells": [
  {
   "cell_type": "code",
   "execution_count": 1,
   "id": "54f79c8a",
   "metadata": {},
   "outputs": [
    {
     "data": {
      "text/plain": [
       "'c:\\\\Users\\\\hp\\\\Files\\\\DataScience\\\\End-To-End Projects\\\\Chicken-Disease-Classification-Projects'"
      ]
     },
     "execution_count": 1,
     "metadata": {},
     "output_type": "execute_result"
    }
   ],
   "source": [
    "import os \n",
    "from cnnClassifier import logging, CustomException \n",
    "\n",
    "os.chdir(\"../\")\n",
    "%pwd"
   ]
  },
  {
   "cell_type": "markdown",
   "id": "bee1fb81",
   "metadata": {},
   "source": [
    "### define entity \n",
    "determine datatypes"
   ]
  },
  {
   "cell_type": "code",
   "execution_count": 2,
   "id": "d8e45089",
   "metadata": {},
   "outputs": [],
   "source": [
    "from dataclasses import dataclass \n",
    "from pathlib import Path \n",
    "\n",
    "@dataclass\n",
    "class DataIngestionConfig: \n",
    "    root_dir:Path\n",
    "    source_url:str\n",
    "    local_data_file:Path \n",
    "    unzip_dir:Path\n"
   ]
  },
  {
   "cell_type": "markdown",
   "id": "63f5c88a",
   "metadata": {},
   "source": [
    "configuration manageer"
   ]
  },
  {
   "cell_type": "code",
   "execution_count": 3,
   "id": "7414f9b2",
   "metadata": {},
   "outputs": [
    {
     "name": "stdout",
     "output_type": "stream",
     "text": [
      "[2025-10-03 09:37:42,489] [INFO] [root:read_yaml:23] - reading yaml file -> config\\config.yaml successed.\n",
      "[2025-10-03 09:37:42,494] [INFO] [root:read_yaml:23] - reading yaml file -> params.yaml successed.\n",
      "[2025-10-03 09:37:42,497] [INFO] [root:create_directories:45] - folder 'artifacts' already exist.\n",
      "[2025-10-03 09:37:42,500] [INFO] [root:create_directories:45] - folder 'artifacts/data_ingestion' already exist.\n"
     ]
    },
    {
     "data": {
      "text/plain": [
       "DataIngestionConfig(root_dir='artifacts/data_ingestion', source_url='https://github.com/entbappy/Branching-tutorial/raw/master/Chicken-fecal-images.zip', local_data_file='artifacts/data_ingestion/data.zip', unzip_dir='artifacts/data_ingestion')"
      ]
     },
     "execution_count": 3,
     "metadata": {},
     "output_type": "execute_result"
    }
   ],
   "source": [
    "from cnnClassifier.utils.common import read_yaml, create_directories\n",
    "from cnnClassifier.constants import *\n",
    "from ensure import ensure_annotations\n",
    "\n",
    "class ConfigurationManager:\n",
    "    def __init__(self, config_filepath = CONFIG_FILE_PATH, params_filepath = PARAMS_FILE_PATH):\n",
    "        self.config = read_yaml(config_filepath)\n",
    "        self.params = read_yaml(params_filepath) \n",
    "\n",
    "        create_directories([self.config.artifacts_root])\n",
    "    @ensure_annotations\n",
    "    def get_data_ingestion_config(self) -> DataIngestionConfig:\n",
    "        config = self.config.data_ingestion\n",
    "        create_directories([config.root_dir])\n",
    "\n",
    "        data_ingestion_config = DataIngestionConfig(\n",
    "            root_dir = config.root_dir,\n",
    "            source_url=config.source_url,\n",
    "            local_data_file=config.local_data_file,\n",
    "            unzip_dir= config.unzip_dir\n",
    "        )\n",
    "        return data_ingestion_config\n",
    "\n",
    "c = ConfigurationManager(CONFIG_FILE_PATH, PARAMS_FILE_PATH)\n",
    "c.get_data_ingestion_config()\n",
    "        "
   ]
  },
  {
   "cell_type": "code",
   "execution_count": 5,
   "id": "2d0ec2fb",
   "metadata": {},
   "outputs": [
    {
     "name": "stdout",
     "output_type": "stream",
     "text": [
      "[2025-10-03 09:38:27,914] [INFO] [root:create_directories:45] - folder 'artifacts/data_ingestion' already exist.\n"
     ]
    },
    {
     "data": {
      "text/plain": [
       "'https://github.com/entbappy/Branching-tutorial/raw/master/Chicken-fecal-images.zip'"
      ]
     },
     "execution_count": 5,
     "metadata": {},
     "output_type": "execute_result"
    }
   ],
   "source": [
    "content = c.get_data_ingestion_config()\n",
    "content.source_url"
   ]
  },
  {
   "cell_type": "markdown",
   "id": "94b63585",
   "metadata": {},
   "source": [
    "### compoenents"
   ]
  },
  {
   "cell_type": "code",
   "execution_count": null,
   "id": "58ce91e7",
   "metadata": {},
   "outputs": [],
   "source": [
    "import os \n",
    "from urllib.request import urlretrieve\n",
    "import zipfile\n",
    "\n",
    "class DataIngestion:\n",
    "    def __init__(self, config: DataIngestionConfig):\n",
    "        self.config = config \n",
    "    \n",
    "    def download_file(self):\n",
    "        try:\n",
    "            if not os.path.exists(self.config.local_data_file):\n",
    "                file_name, headers = urlretrieve(\n",
    "                    url= self.config.source_url, \n",
    "                    filename=self.config.local_data_file\n",
    "                )\n",
    "                logging.info(f\"{file_name} download! with the following info: \\n{headers}\")\n",
    "            else:\n",
    "                logging.info(f\"{file_name} already exist.\")\n",
    "        except Exception as e:\n",
    "            raise CustomException(e)\n",
    "        \n",
    "    def extract_zip_file(self):\n",
    "        try:\n",
    "            unzip_dir = self.config.unzip_dir \n",
    "            os.makedirs(unzip_dir, exist_ok=True)\n",
    "            with zipfile.ZipFile(self.config.local_data_file, \"r\") as zip_ref:\n",
    "                zip_ref.extractall(unzip_dir)\n",
    "        except Exception as e:\n",
    "            raise CustomException(e)"
   ]
  },
  {
   "cell_type": "code",
   "execution_count": null,
   "id": "919f0a34",
   "metadata": {},
   "outputs": [
    {
     "name": "stdout",
     "output_type": "stream",
     "text": [
      "[2025-10-03 10:01:07,141] [INFO] [root:read_yaml:23] - reading yaml file -> config\\config.yaml successed.\n",
      "[2025-10-03 10:01:07,148] [INFO] [root:read_yaml:23] - reading yaml file -> params.yaml successed.\n",
      "[2025-10-03 10:01:07,153] [INFO] [root:create_directories:45] - folder 'artifacts' already exist.\n",
      "[2025-10-03 10:01:07,158] [INFO] [root:create_directories:45] - folder 'artifacts/data_ingestion' already exist.\n"
     ]
    }
   ],
   "source": [
    "try:\n",
    "    config = ConfigurationManager() \n",
    "    data_ingestion_config = config.get_data_ingestion_config() \n",
    "    data_ingestion = DataIngestion(data_ingestion_config)\n",
    "    data_ingestion.extract_zip_file()\n",
    "except Exception as e:\n",
    "    raise CustomException(e)"
   ]
  }
 ],
 "metadata": {
  "kernelspec": {
   "display_name": "cnn-env",
   "language": "python",
   "name": "python3"
  },
  "language_info": {
   "codemirror_mode": {
    "name": "ipython",
    "version": 3
   },
   "file_extension": ".py",
   "mimetype": "text/x-python",
   "name": "python",
   "nbconvert_exporter": "python",
   "pygments_lexer": "ipython3",
   "version": "3.12.11"
  }
 },
 "nbformat": 4,
 "nbformat_minor": 5
}
